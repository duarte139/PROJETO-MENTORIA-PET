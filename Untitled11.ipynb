{
  "nbformat": 4,
  "nbformat_minor": 0,
  "metadata": {
    "colab": {
      "provenance": [],
      "authorship_tag": "ABX9TyOm8RrsML6VQwrPt3kgMi+w",
      "include_colab_link": true
    },
    "kernelspec": {
      "name": "python3",
      "display_name": "Python 3"
    },
    "language_info": {
      "name": "python"
    }
  },
  "cells": [
    {
      "cell_type": "markdown",
      "metadata": {
        "id": "view-in-github",
        "colab_type": "text"
      },
      "source": [
        "<a href=\"https://colab.research.google.com/github/duarte139/PROJETO-MENTORIA-PET/blob/main/Untitled11.ipynb\" target=\"_parent\"><img src=\"https://colab.research.google.com/assets/colab-badge.svg\" alt=\"Open In Colab\"/></a>"
      ]
    },
    {
      "cell_type": "code",
      "execution_count": 1,
      "metadata": {
        "id": "mZU2ewHnTd76",
        "colab": {
          "base_uri": "https://localhost:8080/"
        },
        "outputId": "677a2ad7-227f-405c-e3b8-df848adaa709"
      },
      "outputs": [
        {
          "output_type": "stream",
          "name": "stdout",
          "text": [
            "Requirement already satisfied: google-genai in /usr/local/lib/python3.11/dist-packages (1.15.0)\n",
            "Requirement already satisfied: anyio<5.0.0,>=4.8.0 in /usr/local/lib/python3.11/dist-packages (from google-genai) (4.9.0)\n",
            "Requirement already satisfied: google-auth<3.0.0,>=2.14.1 in /usr/local/lib/python3.11/dist-packages (from google-genai) (2.38.0)\n",
            "Requirement already satisfied: httpx<1.0.0,>=0.28.1 in /usr/local/lib/python3.11/dist-packages (from google-genai) (0.28.1)\n",
            "Requirement already satisfied: pydantic<3.0.0,>=2.0.0 in /usr/local/lib/python3.11/dist-packages (from google-genai) (2.11.4)\n",
            "Requirement already satisfied: requests<3.0.0,>=2.28.1 in /usr/local/lib/python3.11/dist-packages (from google-genai) (2.32.3)\n",
            "Requirement already satisfied: websockets<15.1.0,>=13.0.0 in /usr/local/lib/python3.11/dist-packages (from google-genai) (15.0.1)\n",
            "Requirement already satisfied: typing-extensions<5.0.0,>=4.11.0 in /usr/local/lib/python3.11/dist-packages (from google-genai) (4.13.2)\n",
            "Requirement already satisfied: idna>=2.8 in /usr/local/lib/python3.11/dist-packages (from anyio<5.0.0,>=4.8.0->google-genai) (3.10)\n",
            "Requirement already satisfied: sniffio>=1.1 in /usr/local/lib/python3.11/dist-packages (from anyio<5.0.0,>=4.8.0->google-genai) (1.3.1)\n",
            "Requirement already satisfied: cachetools<6.0,>=2.0.0 in /usr/local/lib/python3.11/dist-packages (from google-auth<3.0.0,>=2.14.1->google-genai) (5.5.2)\n",
            "Requirement already satisfied: pyasn1-modules>=0.2.1 in /usr/local/lib/python3.11/dist-packages (from google-auth<3.0.0,>=2.14.1->google-genai) (0.4.2)\n",
            "Requirement already satisfied: rsa<5,>=3.1.4 in /usr/local/lib/python3.11/dist-packages (from google-auth<3.0.0,>=2.14.1->google-genai) (4.9.1)\n",
            "Requirement already satisfied: certifi in /usr/local/lib/python3.11/dist-packages (from httpx<1.0.0,>=0.28.1->google-genai) (2025.4.26)\n",
            "Requirement already satisfied: httpcore==1.* in /usr/local/lib/python3.11/dist-packages (from httpx<1.0.0,>=0.28.1->google-genai) (1.0.9)\n",
            "Requirement already satisfied: h11>=0.16 in /usr/local/lib/python3.11/dist-packages (from httpcore==1.*->httpx<1.0.0,>=0.28.1->google-genai) (0.16.0)\n",
            "Requirement already satisfied: annotated-types>=0.6.0 in /usr/local/lib/python3.11/dist-packages (from pydantic<3.0.0,>=2.0.0->google-genai) (0.7.0)\n",
            "Requirement already satisfied: pydantic-core==2.33.2 in /usr/local/lib/python3.11/dist-packages (from pydantic<3.0.0,>=2.0.0->google-genai) (2.33.2)\n",
            "Requirement already satisfied: typing-inspection>=0.4.0 in /usr/local/lib/python3.11/dist-packages (from pydantic<3.0.0,>=2.0.0->google-genai) (0.4.0)\n",
            "Requirement already satisfied: charset-normalizer<4,>=2 in /usr/local/lib/python3.11/dist-packages (from requests<3.0.0,>=2.28.1->google-genai) (3.4.2)\n",
            "Requirement already satisfied: urllib3<3,>=1.21.1 in /usr/local/lib/python3.11/dist-packages (from requests<3.0.0,>=2.28.1->google-genai) (2.4.0)\n",
            "Requirement already satisfied: pyasn1<0.7.0,>=0.6.1 in /usr/local/lib/python3.11/dist-packages (from pyasn1-modules>=0.2.1->google-auth<3.0.0,>=2.14.1->google-genai) (0.6.1)\n"
          ]
        }
      ],
      "source": [
        "!pip install google-genai"
      ]
    },
    {
      "cell_type": "code",
      "source": [
        "import os\n",
        "from google.colab import userdata\n",
        "\n",
        "os.environ['GOOGLE_API_KEY'] = userdata.get('GOOGLE_API_KEY')"
      ],
      "metadata": {
        "id": "wc4S-z7Dwqnv"
      },
      "execution_count": 2,
      "outputs": []
    },
    {
      "cell_type": "code",
      "source": [
        "from google import genai\n",
        "\n",
        "client = genai.Client()"
      ],
      "metadata": {
        "id": "ssLSD-f1w38X"
      },
      "execution_count": 3,
      "outputs": []
    },
    {
      "cell_type": "code",
      "source": [
        "for model in client.models.list():\n",
        "    print(model.name)"
      ],
      "metadata": {
        "colab": {
          "base_uri": "https://localhost:8080/"
        },
        "id": "UaJf21JQw-wH",
        "outputId": "379125d1-ac34-4339-a475-5a02a5d878de"
      },
      "execution_count": 4,
      "outputs": [
        {
          "output_type": "stream",
          "name": "stdout",
          "text": [
            "models/chat-bison-001\n",
            "models/text-bison-001\n",
            "models/embedding-gecko-001\n",
            "models/gemini-1.0-pro-vision-latest\n",
            "models/gemini-pro-vision\n",
            "models/gemini-1.5-pro-latest\n",
            "models/gemini-1.5-pro-001\n",
            "models/gemini-1.5-pro-002\n",
            "models/gemini-1.5-pro\n",
            "models/gemini-1.5-flash-latest\n",
            "models/gemini-1.5-flash-001\n",
            "models/gemini-1.5-flash-001-tuning\n",
            "models/gemini-1.5-flash\n",
            "models/gemini-1.5-flash-002\n",
            "models/gemini-1.5-flash-8b\n",
            "models/gemini-1.5-flash-8b-001\n",
            "models/gemini-1.5-flash-8b-latest\n",
            "models/gemini-1.5-flash-8b-exp-0827\n",
            "models/gemini-1.5-flash-8b-exp-0924\n",
            "models/gemini-2.5-pro-exp-03-25\n",
            "models/gemini-2.5-pro-preview-03-25\n",
            "models/gemini-2.5-flash-preview-04-17\n",
            "models/gemini-2.5-flash-preview-04-17-thinking\n",
            "models/gemini-2.5-pro-preview-05-06\n",
            "models/gemini-2.0-flash-exp\n",
            "models/gemini-2.0-flash\n",
            "models/gemini-2.0-flash-001\n",
            "models/gemini-2.0-flash-exp-image-generation\n",
            "models/gemini-2.0-flash-lite-001\n",
            "models/gemini-2.0-flash-lite\n",
            "models/gemini-2.0-flash-preview-image-generation\n",
            "models/gemini-2.0-flash-lite-preview-02-05\n",
            "models/gemini-2.0-flash-lite-preview\n",
            "models/gemini-2.0-pro-exp\n",
            "models/gemini-2.0-pro-exp-02-05\n",
            "models/gemini-exp-1206\n",
            "models/gemini-2.0-flash-thinking-exp-01-21\n",
            "models/gemini-2.0-flash-thinking-exp\n",
            "models/gemini-2.0-flash-thinking-exp-1219\n",
            "models/learnlm-2.0-flash-experimental\n",
            "models/gemma-3-1b-it\n",
            "models/gemma-3-4b-it\n",
            "models/gemma-3-12b-it\n",
            "models/gemma-3-27b-it\n",
            "models/embedding-001\n",
            "models/text-embedding-004\n",
            "models/gemini-embedding-exp-03-07\n",
            "models/gemini-embedding-exp\n",
            "models/aqa\n",
            "models/imagen-3.0-generate-002\n",
            "models/gemini-2.0-flash-live-001\n"
          ]
        }
      ]
    },
    {
      "cell_type": "code",
      "source": [
        "modelo = \"gemini-2.0-flash\"\n",
        "\n",
        "resposta = client.models.generate_content(model=modelo,\n",
        "                                          contents=\"Cuidados necessários com filhotes de cão?\")"
      ],
      "metadata": {
        "id": "54D7VFwYxYwl"
      },
      "execution_count": 5,
      "outputs": []
    },
    {
      "cell_type": "code",
      "source": [
        "resposta.text"
      ],
      "metadata": {
        "colab": {
          "base_uri": "https://localhost:8080/",
          "height": 140
        },
        "id": "mazkE-MIxYkM",
        "outputId": "bd41f027-ca33-49fb-b66d-0edd94aa5006"
      },
      "execution_count": 6,
      "outputs": [
        {
          "output_type": "execute_result",
          "data": {
            "text/plain": [
              "'Cuidar de um filhote de cão é uma grande responsabilidade, mas também uma experiência incrivelmente gratificante. Aqui estão os cuidados essenciais para garantir que seu novo amigo cresça feliz e saudável:\\n\\n**1. Alimentação:**\\n\\n*   **Escolha da Ração:** Opte por uma ração de alta qualidade específica para filhotes, que contenha todos os nutrientes necessários para o crescimento. Verifique a embalagem para garantir que seja adequada para a idade e porte do seu filhote.\\n*   **Quantidade e Frequência:** Siga as instruções do fabricante da ração quanto à quantidade diária, dividindo em 3 a 4 refeições ao longo do dia. Filhotes precisam comer com mais frequência do que cães adultos.\\n*   **Água Fresca:** Mantenha sempre água fresca e limpa disponível para o filhote.\\n\\n**2. Saúde:**\\n\\n*   **Veterinário:** A primeira consulta ao veterinário é crucial. Ele irá examinar o filhote, verificar se há problemas de saúde, iniciar o esquema de vacinação e vermifugação, e orientar sobre cuidados específicos.\\n*   **Vacinação:** Siga rigorosamente o calendário de vacinação recomendado pelo veterinário para proteger o filhote contra doenças graves como parvovirose, cinomose e raiva.\\n*   **Vermifugação:** Filhotes são frequentemente infectados por vermes. O veterinário irá prescrever o vermífugo adequado e a frequência de administração.\\n*   **Controle de Pulgas e Carrapatos:** Utilize produtos recomendados pelo veterinário para prevenir e tratar infestações por pulgas e carrapatos.\\n*   **Higiene:**\\n    *   **Banhos:** Banhos em excesso podem ressecar a pele do filhote. Banhos a cada 15 dias ou quando estiver realmente sujo são suficientes. Utilize shampoo específico para filhotes.\\n    *   **Escovação:** Escove o pelo do filhote regularmente para remover pelos mortos e prevenir nós.\\n    *   **Limpeza dos Ouvidos:** Limpe os ouvidos do filhote com produtos específicos, conforme orientação do veterinário.\\n    *   **Corte das Unhas:** Corte as unhas do filhote regularmente para evitar que cresçam demais e causem desconforto.\\n    *   **Higiene Bucal:** Comece a acostumar o filhote com a escovação dos dentes desde cedo para prevenir problemas dentários no futuro. Utilize pasta de dente específica para cães.\\n\\n**3. Socialização:**\\n\\n*   **Exposição Gradual:** Exponha o filhote a diferentes pessoas, animais, ambientes e sons de forma gradual e positiva. Isso ajuda a prevenir problemas de comportamento no futuro.\\n*   **Aulas de Socialização:** Considere matricular o filhote em aulas de socialização para filhotes, onde ele poderá interagir com outros cães em um ambiente seguro e supervisionado.\\n\\n**4. Treinamento:**\\n\\n*   **Reforço Positivo:** Utilize o reforço positivo (recompensas como petiscos e elogios) para ensinar comandos básicos como \"senta\", \"fica\" e \"vem\".\\n*   **Consistência:** Seja consistente com os comandos e regras da casa. Todos os membros da família devem seguir as mesmas regras.\\n*   **Treinamento de Obediência:** Considere matricular o filhote em um curso de obediência para aprender comandos mais avançados e fortalecer o vínculo entre você e seu cão.\\n*   **Treinamento de Higiene:** Comece o treinamento de higiene o mais cedo possível, levando o filhote para o local desejado após acordar, após as refeições e antes de dormir. Recompense-o quando fizer as necessidades no local certo.\\n\\n**5. Ambiente:**\\n\\n*   **Segurança:**\\n    *   **Elimine Perigos:** Remova objetos perigosos, como produtos de limpeza, medicamentos e fios elétricos, do alcance do filhote.\\n    *   **Plantas Tóxicas:** Verifique se as plantas da sua casa são seguras para cães. Algumas plantas são tóxicas e podem causar problemas de saúde.\\n    *   **Portões de Segurança:** Utilize portões de segurança para restringir o acesso do filhote a áreas perigosas da casa, como escadas e piscinas.\\n*   **Conforto:**\\n    *   **Cama Confortável:** Providencie uma cama confortável e aconchegante para o filhote.\\n    *   **Brinquedos:** Ofereça brinquedos seguros e adequados para a idade do filhote para mantê-lo entretido e evitar que ele morda objetos da casa.\\n    *   **Local Seguro:** Crie um local seguro e tranquilo onde o filhote possa se refugiar quando se sentir assustado ou cansado.\\n\\n**6. Atenção e Carinho:**\\n\\n*   **Tempo de Qualidade:** Dedique tempo para brincar, passear e interagir com o filhote.\\n*   **Atenção às Necessidades:** Esteja atento às necessidades do filhote e responda prontamente aos seus sinais de fome, sede, vontade de brincar ou necessidade de ir ao banheiro.\\n*   **Paciência:** Tenha paciência com o filhote. Ele está aprendendo e se adaptando a um novo ambiente.\\n\\n**7. Exercício:**\\n\\n*   **Passeios:** Leve o filhote para passear regularmente, mas evite exercícios extenuantes que possam prejudicar suas articulações em desenvolvimento.\\n*   **Brincadeiras:** Brinque com o filhote em casa ou no quintal para gastar energia e estimular sua mente.\\n\\n**Observações Importantes:**\\n\\n*   **Mordidas:** Filhotes mordiscam como parte da exploração do mundo. Redirecione as mordidas para brinquedos apropriados.\\n*   **Choro Noturno:** É normal que filhotes chorem nas primeiras noites em casa. Ofereça um brinquedo macio e coloque a cama perto da sua para dar segurança.\\n*   **Supervisão Constante:** Supervisione o filhote de perto, principalmente nos primeiros meses, para evitar acidentes e garantir sua segurança.\\n*   **Pesquise:** Informe-se sobre a raça do seu filhote para entender suas necessidades específicas e predisposições a problemas de saúde.\\n\\n**Lembre-se:** Cada filhote é único e pode ter necessidades diferentes. Consulte sempre o veterinário para obter orientações personalizadas e garantir que seu filhote receba os melhores cuidados possíveis.  Boa sorte com seu novo companheiro!\\n'"
            ],
            "application/vnd.google.colaboratory.intrinsic+json": {
              "type": "string"
            }
          },
          "metadata": {},
          "execution_count": 6
        }
      ]
    },
    {
      "cell_type": "code",
      "source": [
        "chat = client.chats.create(model=modelo)\n",
        "\n",
        "resposta = chat.send_message(\"Oi, tudo bem?\")\n",
        "\n",
        "resposta.text"
      ],
      "metadata": {
        "colab": {
          "base_uri": "https://localhost:8080/",
          "height": 35
        },
        "id": "tFlkfej4xtrr",
        "outputId": "809a5bb6-1b1f-44d6-8e04-252f4913f377"
      },
      "execution_count": 7,
      "outputs": [
        {
          "output_type": "execute_result",
          "data": {
            "text/plain": [
              "'Tudo bem por aqui! 😊 E com você? Em que posso ajudar?\\n'"
            ],
            "application/vnd.google.colaboratory.intrinsic+json": {
              "type": "string"
            }
          },
          "metadata": {},
          "execution_count": 7
        }
      ]
    },
    {
      "cell_type": "code",
      "source": [
        "resposta = chat.send_message(\"Principais raças pequenas de cão?\")\n",
        "\n",
        "resposta.text"
      ],
      "metadata": {
        "colab": {
          "base_uri": "https://localhost:8080/",
          "height": 105
        },
        "id": "DLXoERRmx-SI",
        "outputId": "e315a0f3-f61e-4102-f116-25deb99c7f49"
      },
      "execution_count": 9,
      "outputs": [
        {
          "output_type": "execute_result",
          "data": {
            "text/plain": [
              "'Já respondemos essa pergunta anteriormente com uma lista detalhada das principais raças pequenas de cão, incluindo características, temperamento e cuidados necessários. 😊\\n\\nPara te ajudar ainda mais, você pode me dizer o que está procurando especificamente em um cão pequeno? Assim, posso te dar recomendações mais personalizadas. Por exemplo:\\n\\n*   Você prefere um cão mais calmo ou mais enérgico?\\n*   Você tem crianças ou outros animais de estimação em casa?\\n*   Você tem tempo para cuidar da pelagem de um cão que precisa de tosa regular?\\n*   Você mora em apartamento ou casa com quintal?\\n\\nCom essas informações, posso te ajudar a encontrar a raça pequena perfeita para você!\\n'"
            ],
            "application/vnd.google.colaboratory.intrinsic+json": {
              "type": "string"
            }
          },
          "metadata": {},
          "execution_count": 9
        }
      ]
    },
    {
      "cell_type": "code",
      "source": [
        "resposta = chat.send_message(\"Você é um profissional muito especialista em animais de estimaçao Pets?\")\n",
        "\n",
        "resposta.text"
      ],
      "metadata": {
        "colab": {
          "base_uri": "https://localhost:8080/",
          "height": 140
        },
        "id": "BU8baFruybF_",
        "outputId": "cb80bbb4-11b5-401a-ac12-0b9c4361d420"
      },
      "execution_count": 10,
      "outputs": [
        {
          "output_type": "execute_result",
          "data": {
            "text/plain": [
              "'Eu fui treinado em uma vasta quantidade de texto, o que inclui muita informação sobre animais de estimação. Posso te ajudar com:\\n\\n*   **Informações sobre raças:** Características, temperamento, cuidados, etc.\\n*   **Dicas de cuidados:** Alimentação, higiene, exercícios, etc.\\n*   **Problemas de saúde:** Sintomas, tratamentos, prevenção, etc.\\n*   **Comportamento animal:** Entender o comportamento do seu pet e como lidar com ele.\\n*   **Treinamento:** Dicas para treinar seu pet e ensiná-lo novos truques.\\n*   **Curiosidades:** Fatos interessantes sobre animais de estimação.\\n\\n**Importante:** Embora eu possa te dar muitas informações, **não sou um veterinário ou especialista em comportamento animal certificado.** Se o seu pet estiver doente ou apresentando problemas de comportamento, **é fundamental consultar um profissional qualificado.**\\n\\nEu posso te ajudar a entender melhor o que está acontecendo e te dar um ponto de partida, mas o diagnóstico e tratamento devem ser feitos por um profissional.\\n\\nEntão, me diga, o que você gostaria de saber sobre animais de estimação? 😉\\n'"
            ],
            "application/vnd.google.colaboratory.intrinsic+json": {
              "type": "string"
            }
          },
          "metadata": {},
          "execution_count": 10
        }
      ]
    },
    {
      "cell_type": "code",
      "source": [
        "from google.genai import types\n",
        "\n",
        "chat_config = types.GenerateContentConfig(\n",
        "    system_instruction = \"Você é um profissional muito especialista em animais de estimaçao Pets e, você sempre responde de forma sucinta.\",\n",
        ")\n",
        "\n",
        "chat = client.chats.create(model=modelo, config=chat_config)"
      ],
      "metadata": {
        "id": "PBLqvlZCzIYB"
      },
      "execution_count": 11,
      "outputs": []
    },
    {
      "cell_type": "code",
      "source": [
        "resposta = chat.send_message(\"Gatos tomam banho?\")\n",
        "\n",
        "resposta.text"
      ],
      "metadata": {
        "colab": {
          "base_uri": "https://localhost:8080/",
          "height": 53
        },
        "id": "oL4lYmThzYBX",
        "outputId": "7c5df21d-e501-47ab-8be0-8aa8ca1dbd20"
      },
      "execution_count": 12,
      "outputs": [
        {
          "output_type": "execute_result",
          "data": {
            "text/plain": [
              "'Gatos geralmente não precisam de banhos regulares, pois se limpam sozinhos. No entanto, em algumas situações (como sujeira excessiva ou problemas de pele), um banho pode ser necessário.\\n'"
            ],
            "application/vnd.google.colaboratory.intrinsic+json": {
              "type": "string"
            }
          },
          "metadata": {},
          "execution_count": 12
        }
      ]
    },
    {
      "cell_type": "code",
      "source": [
        "chat.get_history()"
      ],
      "metadata": {
        "colab": {
          "base_uri": "https://localhost:8080/"
        },
        "id": "irK1m_vtzvLC",
        "outputId": "e72cae6f-cb66-482d-ba56-aef9f5bd9195"
      },
      "execution_count": 13,
      "outputs": [
        {
          "output_type": "execute_result",
          "data": {
            "text/plain": [
              "[UserContent(parts=[Part(video_metadata=None, thought=None, inline_data=None, code_execution_result=None, executable_code=None, file_data=None, function_call=None, function_response=None, text='Gatos tomam banho?')], role='user'),\n",
              " Content(parts=[Part(video_metadata=None, thought=None, inline_data=None, code_execution_result=None, executable_code=None, file_data=None, function_call=None, function_response=None, text='Gatos geralmente não precisam de banhos regulares, pois se limpam sozinhos. No entanto, em algumas situações (como sujeira excessiva ou problemas de pele), um banho pode ser necessário.\\n')], role='model')]"
            ]
          },
          "metadata": {},
          "execution_count": 13
        }
      ]
    },
    {
      "cell_type": "code",
      "source": [
        "prompt = input(\"Esperando prompt: \")\n",
        "\n",
        "while prompt != \"fim\":\n",
        "    resposta = chat.send_message(prompt)\n",
        "    print(\"Resposta: \", resposta.text)\n",
        "    print(\"\\n\")\n",
        "    prompt = input(\"Esperando prompt: \")"
      ],
      "metadata": {
        "colab": {
          "base_uri": "https://localhost:8080/"
        },
        "id": "7f0yuIbSzxNJ",
        "outputId": "f00a2551-3917-44e8-befe-29d4002ad9d4"
      },
      "execution_count": 14,
      "outputs": [
        {
          "name": "stdout",
          "output_type": "stream",
          "text": [
            "Esperando prompt: Por quê a lingua dos gatos são ásperas?\n",
            "Resposta:  A língua dos gatos é áspera devido às pequenas estruturas chamadas papilas, que são feitas de queratina e ajudam na limpeza e remoção de pelos soltos.\n",
            "\n",
            "\n",
            "\n",
            "Esperando prompt: Dicas para não perder o pet?\n",
            "Resposta:  *   **Microchip:** Essencial para identificação.\n",
            "*   **Coleira com identificação:** Inclua nome e telefone.\n",
            "*   **Fotos recentes:** Facilita a identificação em caso de perda.\n",
            "*   **Passeios com guia:** Evita fugas durante os passeios.\n",
            "*   **Redes de proteção:** Em janelas e varandas.\n",
            "*   **Ambiente seguro:** Evite portões abertos e áreas de risco.\n",
            "\n",
            "\n",
            "\n",
            "Esperando prompt: fim\n"
          ]
        }
      ]
    }
  ]
}